{
 "cells": [
  {
   "cell_type": "code",
   "execution_count": 3,
   "metadata": {},
   "outputs": [],
   "source": [
    "from PIL import Image\n",
    "import os\n",
    "\n",
    "# Set the target size\n",
    "target_size = (192, 192, 3)\n",
    "\n",
    "# Set the path to the folder containing the images\n",
    "folder_path = 'Dataset/PetImages/not_classified/unseen'\n",
    "\n",
    "# Loop through all images in the folder\n",
    "for filename in os.listdir(folder_path):\n",
    "    if filename.endswith('.jpg'):  # Update with the file extensions you have\n",
    "        # Load the image\n",
    "        image_path = os.path.join(folder_path, filename)\n",
    "        image = Image.open(image_path)\n",
    "        \n",
    "        # Resize the image\n",
    "        resized_image = image.resize(target_size[:2])\n",
    "        \n",
    "        # Convert the image to RGB if it's not already\n",
    "        if resized_image.mode != 'RGB':\n",
    "            resized_image = resized_image.convert('RGB')\n",
    "        \n",
    "        # Save the resized image, overwriting the original\n",
    "        resized_image.save(image_path)"
   ]
  }
 ],
 "metadata": {
  "kernelspec": {
   "display_name": "Python 3",
   "language": "python",
   "name": "python3"
  },
  "language_info": {
   "codemirror_mode": {
    "name": "ipython",
    "version": 3
   },
   "file_extension": ".py",
   "mimetype": "text/x-python",
   "name": "python",
   "nbconvert_exporter": "python",
   "pygments_lexer": "ipython3",
   "version": "3.11.3"
  },
  "orig_nbformat": 4
 },
 "nbformat": 4,
 "nbformat_minor": 2
}
